{
 "cells": [
  {
   "cell_type": "code",
   "execution_count": 1,
   "metadata": {},
   "outputs": [
    {
     "ename": "NameError",
     "evalue": "name 'np' is not defined",
     "output_type": "error",
     "traceback": [
      "\u001b[0;31m---------------------------------------------------------------------------\u001b[0m",
      "\u001b[0;31mNameError\u001b[0m                                 Traceback (most recent call last)",
      "\u001b[0;32m<ipython-input-1-9523471305fa>\u001b[0m in \u001b[0;36m<module>\u001b[0;34m\u001b[0m\n\u001b[1;32m     18\u001b[0m \u001b[0mend\u001b[0m \u001b[0;34m=\u001b[0m \u001b[0;36m101\u001b[0m \u001b[0;31m#parameter for final number\u001b[0m\u001b[0;34m\u001b[0m\u001b[0;34m\u001b[0m\u001b[0m\n\u001b[1;32m     19\u001b[0m \u001b[0;34m\u001b[0m\u001b[0m\n\u001b[0;32m---> 20\u001b[0;31m \u001b[0mrandomNumber\u001b[0m \u001b[0;34m=\u001b[0m \u001b[0mnp\u001b[0m\u001b[0;34m.\u001b[0m\u001b[0mrandom\u001b[0m\u001b[0;34m.\u001b[0m\u001b[0mrandint\u001b[0m\u001b[0;34m(\u001b[0m\u001b[0mstart\u001b[0m\u001b[0;34m,\u001b[0m \u001b[0mend\u001b[0m\u001b[0;34m)\u001b[0m \u001b[0;31m#init of random number\u001b[0m\u001b[0;34m\u001b[0m\u001b[0;34m\u001b[0m\u001b[0m\n\u001b[0m\u001b[1;32m     21\u001b[0m \u001b[0mprint\u001b[0m \u001b[0;34m(\u001b[0m\u001b[0;34m\"Загадано число от 1 до 100\"\u001b[0m\u001b[0;34m)\u001b[0m\u001b[0;34m\u001b[0m\u001b[0;34m\u001b[0m\u001b[0m\n\u001b[1;32m     22\u001b[0m \u001b[0mresultCount\u001b[0m \u001b[0;34m=\u001b[0m \u001b[0mgame_core_v3\u001b[0m\u001b[0;34m(\u001b[0m\u001b[0mrandomNumber\u001b[0m\u001b[0;34m,\u001b[0m \u001b[0mstart\u001b[0m\u001b[0;34m,\u001b[0m \u001b[0mend\u001b[0m\u001b[0;34m)\u001b[0m \u001b[0;31m#call our main function\u001b[0m\u001b[0;34m\u001b[0m\u001b[0;34m\u001b[0m\u001b[0m\n",
      "\u001b[0;31mNameError\u001b[0m: name 'np' is not defined"
     ]
    }
   ],
   "source": [
    "def game_core_v3(predict, start, end):\n",
    "    leftLimit = start #left limit\n",
    "    rightLimit = end #right limit\n",
    "    count = 1\n",
    "    \n",
    "    number = int((leftLimit + rightLimit)/2) #first init of number\n",
    "    while number != predict:\n",
    "        count+=1\n",
    "        if number > predict: \n",
    "            rightLimit = number\n",
    "        elif number < predict: \n",
    "            leftLimit = number\n",
    "        number = int((leftLimit + rightLimit)/2)\n",
    "    print (\"Загаданное число найдено, это \" + str(number))\n",
    "    return(count) #exit the loop\n",
    "\n",
    "start = 1 #parameter for start number\n",
    "end = 101 #parameter for final number\n",
    "\n",
    "randomNumber = np.random.randint(start, end) #init of random number\n",
    "print (\"Загадано число от 1 до 100\")\n",
    "resultCount = game_core_v3(randomNumber, start, end) #call our main function\n",
    "print ('Загаданное число найдено за ' + str(resultCount) + ' попыток') #print the result\n",
    "\n"
   ]
  },
  {
   "cell_type": "code",
   "execution_count": 2,
   "metadata": {},
   "outputs": [
    {
     "name": "stdout",
     "output_type": "stream",
     "text": [
      "Загадано число от 1 до 100\n",
      "Вы угадали число 17 за 6 попыток.\n"
     ]
    },
    {
     "data": {
      "text/plain": [
       "6"
      ]
     },
     "execution_count": 2,
     "metadata": {},
     "output_type": "execute_result"
    }
   ],
   "source": [
    "import numpy as np\n",
    "def game_core_v3(predict, start, end):\n",
    "    leftLimit = start #left limit\n",
    "    rightLimit = end #right limit\n",
    "    count = 1\n",
    "    \n",
    "    number = int((leftLimit + rightLimit)/2) #first init of number\n",
    "    while number != predict:\n",
    "        count+=1\n",
    "        if number > predict: \n",
    "            rightLimit = number\n",
    "        elif number < predict: \n",
    "            leftLimit = number\n",
    "        number = int((leftLimit + rightLimit)/2)\n",
    "    print (f\"Вы угадали число {number} за {count} попыток.\") #print the result\n",
    "    return(count) #exit the loop\n",
    "\n",
    "start = 1 #parameter for start number\n",
    "end = 101 #parameter for final number\n",
    "\n",
    "randomNumber = np.random.randint(start, end) #init of random number\n",
    "print (\"Загадано число от 1 до 100\")\n",
    "game_core_v3(randomNumber, start, end) #call our main function"
   ]
  },
  {
   "cell_type": "code",
   "execution_count": null,
   "metadata": {},
   "outputs": [],
   "source": []
  }
 ],
 "metadata": {
  "kernelspec": {
   "display_name": "Python 3",
   "language": "python",
   "name": "python3"
  },
  "language_info": {
   "codemirror_mode": {
    "name": "ipython",
    "version": 3
   },
   "file_extension": ".py",
   "mimetype": "text/x-python",
   "name": "python",
   "nbconvert_exporter": "python",
   "pygments_lexer": "ipython3",
   "version": "3.7.6"
  }
 },
 "nbformat": 4,
 "nbformat_minor": 4
}
